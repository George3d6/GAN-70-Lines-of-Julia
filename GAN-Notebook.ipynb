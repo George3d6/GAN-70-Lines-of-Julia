{
 "cells": [
  {
   "cell_type": "markdown",
   "metadata": {},
   "source": [
    "# GAN-70-Lines-of-Julia  \n",
    "This notebook is a demonstration for a simple GAN training on MNIST by using Julia. It will highlight how one can program a machine learning model in Julia as if just writing a paper. Let's get started!"
   ]
  },
  {
   "cell_type": "markdown",
   "metadata": {},
   "source": [
    "## Setup\n",
    "We will use the deep learning package Knet.jl to compute gradients for the networks and use GPU arrays if a gpu device is available."
   ]
  },
  {
   "cell_type": "code",
   "execution_count": 1,
   "metadata": {},
   "outputs": [
    {
     "data": {
      "text/plain": [
       "Knet.KnetArray{Float32,N} where N"
      ]
     },
     "execution_count": 1,
     "metadata": {},
     "output_type": "execute_result"
    }
   ],
   "source": [
    "using Knet, Colors, Images\n",
    "include(Pkg.dir(\"Knet\",\"data\",\"mnist.jl\")) #MNIST data loader functions\n",
    "global atype = gpu() >= 0 ? KnetArray{Float32} : Array{Float32}"
   ]
  },
  {
   "cell_type": "markdown",
   "metadata": {},
   "source": [
    "## MLP Model  \n",
    "Both for Generator and Discriminator, generic multilayer perceptrons are needed. $\\mathbf{w}$ is an array that keeps the model paramaters and $\\mathbf{x}$ is the input. Keyword argument $\\mathbf{p}$ is the dropout probability, `activation` is the activation function used in the hidden layers, and `outputactivation` is the activation function used in the output layer. We also define `leakyrelu` activation function."
   ]
  },
  {
   "cell_type": "code",
   "execution_count": 2,
   "metadata": {},
   "outputs": [
    {
     "data": {
      "text/plain": [
       "leakyrelu (generic function with 1 method)"
      ]
     },
     "execution_count": 2,
     "metadata": {},
     "output_type": "execute_result"
    }
   ],
   "source": [
    "function mlp(w,x;p=0.0,activation=leakyrelu,outputactivation=sigm)\n",
    "    for i=1:2:length(w)\n",
    "        x = w[i]*dropout(mat(x),p) .+ w[i+1] # mat() used for flattening images to a vector.\n",
    "        i<length(w)-1 && (x = activation.(x)) \n",
    "    end\n",
    "    return outputactivation.(x) #output layer\n",
    "end\n",
    "leakyrelu(x;α=Float32(0.2)) = max(0,x) + α*min(0,x)"
   ]
  },
  {
   "cell_type": "markdown",
   "metadata": {},
   "source": [
    "## Discriminator and Generator Networks\n",
    "\n",
    "Discriminator and Generator networks are defined as `D` and `G` respectively. Loss functions `𝑱d` and `𝑱g` are defined according to the equation X in GAN paper. Sample noise function `𝒩` is a normal distribution. Loss functions are defined according to the equations in Algorithm 1 section of the [paper](https://arxiv.org/abs/1406.2661 \"arXiv\"). We use a slightly modified generator loss according to [GAN tricks](https://github.com/soumith/ganhacks#2-a-modified-loss-function \"GAN Tricks\").\n",
    "$$ J_d = -\\frac{1}{m} \\sum_{i=1}^{m} log(D(x^{(i)}) + log(1-D(G(z^{(i)})))$$\n",
    "$$ J_g = -\\frac{1}{m} \\sum_{i=1}^{m} log(D(G(z^{(i)}))) $$ \n",
    "\n",
    "*`𝜀` is used to prevent log functions from resulting NaN values.\n"
   ]
  },
  {
   "cell_type": "code",
   "execution_count": 3,
   "metadata": {},
   "outputs": [
    {
     "data": {
      "text/plain": [
       "𝒩 (generic function with 1 method)"
      ]
     },
     "execution_count": 3,
     "metadata": {},
     "output_type": "execute_result"
    }
   ],
   "source": [
    "global const 𝜀=Float32(1e-8)\n",
    "D(w,x;p=0.0) = mlp(w,x;p=p)\n",
    "G(w,z;p=0.0) = mlp(w,z;p=p) \n",
    "𝑱d(𝗪d,x,Gz) = -mean(log.(D(𝗪d,x)+𝜀)+log.(1-D(𝗪d,Gz)+𝜀))/2   \n",
    "𝑱g(𝗪g, 𝗪d, z) = -mean(log.(D(𝗪d,G(𝗪g,z))+𝜀))           \n",
    "𝒩(input, batch) = atype(randn(Float32, input, batch))  #SampleNoise"
   ]
  },
  {
   "cell_type": "markdown",
   "metadata": {},
   "source": [
    "## Gradient Functions\n",
    "\n",
    "For backpropogation, we need the derivatives of loss functions according to the model parameters. This is where Knet comes to the scene. The `Knet.grad` function calculates gradient according to the first parameter of any function. So,"
   ]
  },
  {
   "cell_type": "code",
   "execution_count": 4,
   "metadata": {},
   "outputs": [
    {
     "data": {
      "text/plain": [
       "(::gradfun) (generic function with 1 method)"
      ]
     },
     "execution_count": 4,
     "metadata": {},
     "output_type": "execute_result"
    }
   ],
   "source": [
    "∇d  = grad(𝑱d) # Discriminator gradient\n",
    "∇g  = grad(𝑱g) # Generator gradient"
   ]
  },
  {
   "cell_type": "markdown",
   "metadata": {},
   "source": [
    "## Parameter Initialization\n",
    "It is a generic weight initialization function for MLPs. For each layer, it creates a weight matrix and bias vector, then add them to $W$. "
   ]
  },
  {
   "cell_type": "code",
   "execution_count": 5,
   "metadata": {},
   "outputs": [
    {
     "data": {
      "text/plain": [
       "initweights (generic function with 1 method)"
      ]
     },
     "execution_count": 5,
     "metadata": {},
     "output_type": "execute_result"
    }
   ],
   "source": [
    "function initweights(hidden,input, output)\n",
    "    𝗪 = Any[];\n",
    "    x = input\n",
    "    for h in [hidden... output]\n",
    "        push!(𝗪, atype(xavier(h,x)), atype(zeros(h, 1))) #FC Layers weights and bias\n",
    "        x = h\n",
    "    end\n",
    "    return 𝗪  #return model params\n",
    "end"
   ]
  },
  {
   "cell_type": "markdown",
   "metadata": {},
   "source": [
    "## Generate and Display\n",
    "\n",
    "This function generates a random `number` of images and displays them."
   ]
  },
  {
   "cell_type": "code",
   "execution_count": 6,
   "metadata": {},
   "outputs": [
    {
     "data": {
      "text/plain": [
       "generate_and_show (generic function with 1 method)"
      ]
     },
     "execution_count": 6,
     "metadata": {},
     "output_type": "execute_result"
    }
   ],
   "source": [
    "function generate_and_show(𝗪,number,𝞗)\n",
    "    Gz    = Array(G(𝗪[1],𝒩(𝞗[:ginp],number))) .> 0.5\n",
    "    Gz    = reshape(Gz,(28,28,number))\n",
    "    L     = floor(Int,sqrt(number))\n",
    "    grid  = []\n",
    "    for i = 1:L:number\n",
    "        push!(grid,reshape(permutedims(Gz[:,:,i:i+L-1],(2,3,1)),(L*28,28)))\n",
    "    end\n",
    "    display(colorview(Gray,hcat(grid...)))\n",
    "end"
   ]
  },
  {
   "cell_type": "markdown",
   "metadata": {},
   "source": [
    "## Train & Test Function\n",
    "\n",
    "This `runmodel` function is implementing training procedure described in GAN paper. It first update discriminator with specified optimizer, then update generator network. Same function can be used in test mode by passing `train` argument as false. In the test mode it calculates losses instead of gradients."
   ]
  },
  {
   "cell_type": "code",
   "execution_count": 7,
   "metadata": {},
   "outputs": [
    {
     "data": {
      "text/plain": [
       "runmodel (generic function with 1 method)"
      ]
     },
     "execution_count": 7,
     "metadata": {},
     "output_type": "execute_result"
    }
   ],
   "source": [
    "function runmodel(𝗪, data, 𝞗;dtst=nothing,optim=nothing,train=false,saveinterval=20)\n",
    "    gloss=dloss=total=0.0;\n",
    "    B = 𝞗[:batchsize]\n",
    "    for i=1:(train ? 𝞗[:epochs]:1)\n",
    "        for (x,_) in data\n",
    "            total+=2B\n",
    "            Gz = G(𝗪[1],𝒩(𝞗[:ginp],B)) #Generate Fake Images\n",
    "            train ? update!(𝗪[2], ∇d(𝗪[2],x,Gz), optim[2]) : (dloss += 2B*𝑱d(𝗪[2],x,Gz))\n",
    "            \n",
    "            z=𝒩(𝞗[:ginp],2B) #Sample z from Noise\n",
    "            train ? update!(𝗪[1], ∇g(𝗪[1], 𝗪[2], z), optim[1]) : (gloss += 2B*𝑱g(𝗪[1],𝗪[2],z))       \n",
    "        end\n",
    "        train ? runmodel(𝗪,dtst,𝞗;train=false) : println((gloss/total,dloss/total))\n",
    "        i % saveinterval == 0 && generate_and_show(𝗪,100,𝞗)  # save 10 images\n",
    "    end\n",
    "end"
   ]
  },
  {
   "cell_type": "markdown",
   "metadata": {},
   "source": [
    "## Run\n",
    "We will train our model 80 epochs and display resulted images in each 20 epoch. The log format here is (generator loss, discriminator loss)."
   ]
  },
  {
   "cell_type": "code",
   "execution_count": 8,
   "metadata": {},
   "outputs": [
    {
     "name": "stderr",
     "output_type": "stream",
     "text": [
      "\u001b[1m\u001b[36mINFO: \u001b[39m\u001b[22m\u001b[36mLoading MNIST...\n",
      "\u001b[39m"
     ]
    },
    {
     "data": {
      "image/png": "[encoded data removed]",
      "text/plain": [
       "280×280 ColorView{Gray}(::BitArray{2}) with element type ColorTypes.Gray{Bool}:\n",
       " Gray{Bool}(true)   Gray{Bool}(true)   …  Gray{Bool}(false)\n",
       " Gray{Bool}(false)  Gray{Bool}(true)      Gray{Bool}(true) \n",
       " Gray{Bool}(false)  Gray{Bool}(true)      Gray{Bool}(true) \n",
       " Gray{Bool}(false)  Gray{Bool}(false)     Gray{Bool}(false)\n",
       " Gray{Bool}(false)  Gray{Bool}(true)      Gray{Bool}(false)\n",
       " Gray{Bool}(true)   Gray{Bool}(false)  …  Gray{Bool}(true) \n",
       " Gray{Bool}(false)  Gray{Bool}(false)     Gray{Bool}(false)\n",
       " Gray{Bool}(false)  Gray{Bool}(false)     Gray{Bool}(true) \n",
       " Gray{Bool}(true)   Gray{Bool}(true)      Gray{Bool}(true) \n",
       " Gray{Bool}(true)   Gray{Bool}(true)      Gray{Bool}(false)\n",
       " Gray{Bool}(true)   Gray{Bool}(true)   …  Gray{Bool}(false)\n",
       " Gray{Bool}(true)   Gray{Bool}(false)     Gray{Bool}(false)\n",
       " Gray{Bool}(true)   Gray{Bool}(true)      Gray{Bool}(true) \n",
       " ⋮                                     ⋱                   \n",
       " Gray{Bool}(false)  Gray{Bool}(true)      Gray{Bool}(true) \n",
       " Gray{Bool}(true)   Gray{Bool}(true)      Gray{Bool}(false)\n",
       " Gray{Bool}(true)   Gray{Bool}(true)   …  Gray{Bool}(false)\n",
       " Gray{Bool}(false)  Gray{Bool}(false)     Gray{Bool}(true) \n",
       " Gray{Bool}(true)   Gray{Bool}(true)      Gray{Bool}(true) \n",
       " Gray{Bool}(true)   Gray{Bool}(false)     Gray{Bool}(true) \n",
       " Gray{Bool}(false)  Gray{Bool}(true)      Gray{Bool}(false)\n",
       " Gray{Bool}(false)  Gray{Bool}(true)   …  Gray{Bool}(true) \n",
       " Gray{Bool}(true)   Gray{Bool}(false)     Gray{Bool}(true) \n",
       " Gray{Bool}(true)   Gray{Bool}(false)     Gray{Bool}(true) \n",
       " Gray{Bool}(false)  Gray{Bool}(true)      Gray{Bool}(false)\n",
       " Gray{Bool}(false)  Gray{Bool}(false)     Gray{Bool}(true) "
      ]
     },
     "metadata": {},
     "output_type": "display_data"
    },
    {
     "name": "stdout",
     "output_type": "stream",
     "text": [
      "(0.6024423759335127, 0.7120745661549079)\n",
      "(8.029355027736761, 0.01372356959976829)\n",
      "(4.796550104251275, 0.036500089234696366)\n",
      "(2.9237647239978495, 0.2311681240844803)\n",
      "(3.9915744945024834, 0.18336093958276203)\n",
      "(4.034727129416588, 0.19636468158270687)\n",
      "(2.8221946381605587, 0.2552692772796712)\n",
      "(2.445782938064673, 0.2457437274308923)\n",
      "(3.4376327303739695, 0.14963982774852178)\n",
      "(2.2229160307309566, 0.20071183121166167)\n",
      "(3.3827193027887588, 0.2001428845553444)\n",
      "(3.41035025089215, 0.1394083384090127)\n",
      "(3.1626401948623166, 0.22788733488712937)\n",
      "(2.479282918648842, 0.23922597072445428)\n",
      "(2.769973396490782, 0.21272555246758154)\n",
      "(2.248400813111892, 0.27508370229640067)\n",
      "(2.1004484368440433, 0.2655890663273824)\n",
      "(2.0375988426116796, 0.2979849152362499)\n",
      "(1.985091554048734, 0.2839513701171829)\n",
      "(1.95557846281773, 0.36008360953285146)\n",
      "("
     ]
    },
    {
     "data": {
      "image/png": "[encoded data removed]",
      "text/plain": [
       "280×280 ColorView{Gray}(::BitArray{2}) with element type ColorTypes.Gray{Bool}:\n",
       " Gray{Bool}(false)  Gray{Bool}(false)  …  Gray{Bool}(false)\n",
       " Gray{Bool}(false)  Gray{Bool}(false)     Gray{Bool}(false)\n",
       " Gray{Bool}(false)  Gray{Bool}(false)     Gray{Bool}(false)\n",
       " Gray{Bool}(false)  Gray{Bool}(false)     Gray{Bool}(false)\n",
       " Gray{Bool}(false)  Gray{Bool}(false)     Gray{Bool}(false)\n",
       " Gray{Bool}(false)  Gray{Bool}(false)  …  Gray{Bool}(false)\n",
       " Gray{Bool}(false)  Gray{Bool}(false)     Gray{Bool}(false)\n",
       " Gray{Bool}(false)  Gray{Bool}(false)     Gray{Bool}(false)\n",
       " Gray{Bool}(false)  Gray{Bool}(false)     Gray{Bool}(false)\n",
       " Gray{Bool}(false)  Gray{Bool}(false)     Gray{Bool}(false)\n",
       " Gray{Bool}(false)  Gray{Bool}(false)  …  Gray{Bool}(false)\n",
       " Gray{Bool}(false)  Gray{Bool}(false)     Gray{Bool}(false)\n",
       " Gray{Bool}(false)  Gray{Bool}(false)     Gray{Bool}(false)\n",
       " ⋮                                     ⋱                   \n",
       " Gray{Bool}(false)  Gray{Bool}(false)     Gray{Bool}(false)\n",
       " Gray{Bool}(false)  Gray{Bool}(false)     Gray{Bool}(false)\n",
       " Gray{Bool}(false)  Gray{Bool}(false)  …  Gray{Bool}(false)\n",
       " Gray{Bool}(false)  Gray{Bool}(false)     Gray{Bool}(false)\n",
       " Gray{Bool}(false)  Gray{Bool}(false)     Gray{Bool}(false)\n",
       " Gray{Bool}(false)  Gray{Bool}(false)     Gray{Bool}(false)\n",
       " Gray{Bool}(false)  Gray{Bool}(false)     Gray{Bool}(false)\n",
       " Gray{Bool}(false)  Gray{Bool}(false)  …  Gray{Bool}(false)\n",
       " Gray{Bool}(false)  Gray{Bool}(false)     Gray{Bool}(false)\n",
       " Gray{Bool}(false)  Gray{Bool}(false)     Gray{Bool}(false)\n",
       " Gray{Bool}(false)  Gray{Bool}(false)     Gray{Bool}(false)\n",
       " Gray{Bool}(false)  Gray{Bool}(false)     Gray{Bool}(false)"
      ]
     },
     "metadata": {},
     "output_type": "display_data"
    },
    {
     "name": "stdout",
     "output_type": "stream",
     "text": [
      "2.1922727685708265, 0.343694937773622)\n",
      "(1.9546522001425426, 0.32827919186689913)\n",
      "(1.91309770101156, 0.33040141108899546)\n",
      "(1.778710696941767, 0.38299324778983224)\n",
      "(1.6089875239592333, 0.39483958329909885)\n",
      "(1.8474951061682823, 0.4129992680958448)\n",
      "(1.839065751968286, 0.40210826642429215)\n",
      "(1.5794069774639912, 0.4303522513080866)\n",
      "(1.7229401446305788, 0.4158221206699426)\n",
      "(2.0557861224963117, 0.424491833943205)\n",
      "(1.5060075108821576, 0.4534307472789899)\n",
      "(1.416788671261225, 0.4696476039214012)\n",
      "(1.4349219760833642, 0.451486880867145)\n",
      "(1.4100110011223035, 0.49510086170182777)\n",
      "(1.5649249248015575, 0.4597828889695498)\n",
      "(1.7783885987905355, 0.43366642859883797)\n",
      "(1.8463450532693129, 0.4288428069975896)\n",
      "(1.8288965679896183, 0.4278028127379142)\n",
      "(1.7576568229840352, 0.41291789896786213)\n",
      "(1.8288339437582555, 0.4405307498975442)\n"
     ]
    },
    {
     "data": {
      "image/png": "[encoded data removed]",
      "text/plain": [
       "280×280 ColorView{Gray}(::BitArray{2}) with element type ColorTypes.Gray{Bool}:\n",
       " Gray{Bool}(false)  Gray{Bool}(false)  …  Gray{Bool}(false)\n",
       " Gray{Bool}(false)  Gray{Bool}(false)     Gray{Bool}(false)\n",
       " Gray{Bool}(false)  Gray{Bool}(false)     Gray{Bool}(false)\n",
       " Gray{Bool}(false)  Gray{Bool}(false)     Gray{Bool}(false)\n",
       " Gray{Bool}(false)  Gray{Bool}(false)     Gray{Bool}(false)\n",
       " Gray{Bool}(false)  Gray{Bool}(false)  …  Gray{Bool}(false)\n",
       " Gray{Bool}(false)  Gray{Bool}(false)     Gray{Bool}(false)\n",
       " Gray{Bool}(false)  Gray{Bool}(false)     Gray{Bool}(false)\n",
       " Gray{Bool}(false)  Gray{Bool}(false)     Gray{Bool}(false)\n",
       " Gray{Bool}(false)  Gray{Bool}(false)     Gray{Bool}(false)\n",
       " Gray{Bool}(false)  Gray{Bool}(false)  …  Gray{Bool}(false)\n",
       " Gray{Bool}(false)  Gray{Bool}(false)     Gray{Bool}(false)\n",
       " Gray{Bool}(false)  Gray{Bool}(false)     Gray{Bool}(false)\n",
       " ⋮                                     ⋱                   \n",
       " Gray{Bool}(false)  Gray{Bool}(false)     Gray{Bool}(false)\n",
       " Gray{Bool}(false)  Gray{Bool}(false)     Gray{Bool}(false)\n",
       " Gray{Bool}(false)  Gray{Bool}(false)  …  Gray{Bool}(false)\n",
       " Gray{Bool}(false)  Gray{Bool}(false)     Gray{Bool}(false)\n",
       " Gray{Bool}(false)  Gray{Bool}(false)     Gray{Bool}(false)\n",
       " Gray{Bool}(false)  Gray{Bool}(false)     Gray{Bool}(false)\n",
       " Gray{Bool}(false)  Gray{Bool}(false)     Gray{Bool}(false)\n",
       " Gray{Bool}(false)  Gray{Bool}(false)  …  Gray{Bool}(false)\n",
       " Gray{Bool}(false)  Gray{Bool}(false)     Gray{Bool}(false)\n",
       " Gray{Bool}(false)  Gray{Bool}(false)     Gray{Bool}(false)\n",
       " Gray{Bool}(false)  Gray{Bool}(false)     Gray{Bool}(false)\n",
       " Gray{Bool}(false)  Gray{Bool}(false)     Gray{Bool}(false)"
      ]
     },
     "metadata": {},
     "output_type": "display_data"
    },
    {
     "name": "stdout",
     "output_type": "stream",
     "text": [
      "(1.7626787538711841, 0.42390233574387354)\n",
      "(1.8686263400774736, 0.4132578699157024)\n",
      "(1.5709777485865812, 0.44394320445374036)\n",
      "(1.628047756659679, 0.4425347014210927)\n",
      "(1.8792664783123212, 0.4215973510574072)\n",
      "(1.9424080111277409, 0.4317682229269009)\n",
      "(1.798378702539664, 0.40360507388145495)\n",
      "(1.7146218824080932, 0.4434951184174189)\n",
      "(2.094879692945725, 0.4092041647587067)\n",
      "(1.917605024881852, 0.40428972105758315)\n",
      "(2.0001061382966165, 0.4154201688197179)\n",
      "(1.8098736428297484, 0.4235446924964587)\n",
      "(2.454534289928583, 0.4253601672557684)\n",
      "(2.0482934426802855, 0.4031176151325687)\n",
      "(2.0478023260067673, 0.4139131387838951)\n",
      "(1.990189709342443, 0.4038537938911945)\n",
      "(2.0335428779705977, 0.40902705409396917)\n",
      "(2.288477156788875, 0.40320804447699815)\n",
      "(2.3745998709629745, 0.4085527742997958)\n",
      "(2.3521884912863755, 0.4000576640932988)\n"
     ]
    },
    {
     "data": {
      "image/png": "[encoded data removed]",
      "text/plain": [
       "280×280 ColorView{Gray}(::BitArray{2}) with element type ColorTypes.Gray{Bool}:\n",
       " Gray{Bool}(false)  Gray{Bool}(false)  …  Gray{Bool}(false)\n",
       " Gray{Bool}(false)  Gray{Bool}(false)     Gray{Bool}(false)\n",
       " Gray{Bool}(false)  Gray{Bool}(false)     Gray{Bool}(false)\n",
       " Gray{Bool}(false)  Gray{Bool}(false)     Gray{Bool}(false)\n",
       " Gray{Bool}(false)  Gray{Bool}(false)     Gray{Bool}(false)\n",
       " Gray{Bool}(false)  Gray{Bool}(false)  …  Gray{Bool}(false)\n",
       " Gray{Bool}(false)  Gray{Bool}(false)     Gray{Bool}(false)\n",
       " Gray{Bool}(false)  Gray{Bool}(false)     Gray{Bool}(false)\n",
       " Gray{Bool}(false)  Gray{Bool}(false)     Gray{Bool}(false)\n",
       " Gray{Bool}(false)  Gray{Bool}(false)     Gray{Bool}(false)\n",
       " Gray{Bool}(false)  Gray{Bool}(false)  …  Gray{Bool}(false)\n",
       " Gray{Bool}(false)  Gray{Bool}(false)     Gray{Bool}(false)\n",
       " Gray{Bool}(false)  Gray{Bool}(false)     Gray{Bool}(false)\n",
       " ⋮                                     ⋱                   \n",
       " Gray{Bool}(false)  Gray{Bool}(false)     Gray{Bool}(false)\n",
       " Gray{Bool}(false)  Gray{Bool}(false)     Gray{Bool}(false)\n",
       " Gray{Bool}(false)  Gray{Bool}(false)  …  Gray{Bool}(false)\n",
       " Gray{Bool}(false)  Gray{Bool}(false)     Gray{Bool}(false)\n",
       " Gray{Bool}(false)  Gray{Bool}(false)     Gray{Bool}(false)\n",
       " Gray{Bool}(false)  Gray{Bool}(false)     Gray{Bool}(false)\n",
       " Gray{Bool}(false)  Gray{Bool}(false)     Gray{Bool}(false)\n",
       " Gray{Bool}(false)  Gray{Bool}(false)  …  Gray{Bool}(false)\n",
       " Gray{Bool}(false)  Gray{Bool}(false)     Gray{Bool}(false)\n",
       " Gray{Bool}(false)  Gray{Bool}(false)     Gray{Bool}(false)\n",
       " Gray{Bool}(false)  Gray{Bool}(false)     Gray{Bool}(false)\n",
       " Gray{Bool}(false)  Gray{Bool}(false)     Gray{Bool}(false)"
      ]
     },
     "metadata": {},
     "output_type": "display_data"
    },
    {
     "name": "stdout",
     "output_type": "stream",
     "text": [
      "(1.921277166941227, 0.4422131307805196)\n",
      "(2.092424678114744, 0.39317101798951626)\n",
      "(1.9192920888845737, 0.42504225002649504)\n",
      "(2.352094463430918, 0.41882978532558834)\n",
      "(2.165425351414925, 0.3975039030878972)\n",
      "(2.6531015764444303, 0.40449260332836556)\n",
      "(2.3339044081094937, 0.4201001321228269)\n",
      "(1.912613984483939, 0.41001303813969475)\n",
      "(2.5755890202827945, 0.4213316137066636)\n",
      "(2.1949044362856793, 0.4238852259153739)\n",
      "(2.0284256098362117, 0.4097778489574408)\n",
      "(2.138590652591143, 0.40754220441270333)\n",
      "(2.192408113525464, 0.3977194331968442)\n",
      "(2.213929450664765, 0.4023084432507555)\n",
      "(2.6169254932648096, 0.4197282781585669)\n",
      "(2.1416812447401194, 0.4085766924306368)\n",
      "(2.513955980539322, 0.41399364994886595)\n",
      "(2.0693391320797114, 0.4131260755448005)\n",
      "(1.9093030396944437, 0.43519875411994946)\n",
      "(2.200629088741082, 0.4165643238199827)\n"
     ]
    },
    {
     "data": {
      "image/png": "[encoded data removed]",
      "text/plain": [
       "280×280 ColorView{Gray}(::BitArray{2}) with element type ColorTypes.Gray{Bool}:\n",
       " Gray{Bool}(false)  Gray{Bool}(false)  …  Gray{Bool}(false)\n",
       " Gray{Bool}(false)  Gray{Bool}(false)     Gray{Bool}(false)\n",
       " Gray{Bool}(false)  Gray{Bool}(false)     Gray{Bool}(false)\n",
       " Gray{Bool}(false)  Gray{Bool}(false)     Gray{Bool}(false)\n",
       " Gray{Bool}(false)  Gray{Bool}(false)     Gray{Bool}(false)\n",
       " Gray{Bool}(false)  Gray{Bool}(false)  …  Gray{Bool}(false)\n",
       " Gray{Bool}(false)  Gray{Bool}(false)     Gray{Bool}(false)\n",
       " Gray{Bool}(false)  Gray{Bool}(false)     Gray{Bool}(false)\n",
       " Gray{Bool}(false)  Gray{Bool}(false)     Gray{Bool}(false)\n",
       " Gray{Bool}(false)  Gray{Bool}(false)     Gray{Bool}(false)\n",
       " Gray{Bool}(false)  Gray{Bool}(false)  …  Gray{Bool}(false)\n",
       " Gray{Bool}(false)  Gray{Bool}(false)     Gray{Bool}(false)\n",
       " Gray{Bool}(false)  Gray{Bool}(false)     Gray{Bool}(false)\n",
       " ⋮                                     ⋱                   \n",
       " Gray{Bool}(false)  Gray{Bool}(false)     Gray{Bool}(false)\n",
       " Gray{Bool}(false)  Gray{Bool}(false)     Gray{Bool}(false)\n",
       " Gray{Bool}(false)  Gray{Bool}(false)  …  Gray{Bool}(false)\n",
       " Gray{Bool}(false)  Gray{Bool}(false)     Gray{Bool}(false)\n",
       " Gray{Bool}(false)  Gray{Bool}(false)     Gray{Bool}(false)\n",
       " Gray{Bool}(false)  Gray{Bool}(false)     Gray{Bool}(false)\n",
       " Gray{Bool}(false)  Gray{Bool}(false)     Gray{Bool}(false)\n",
       " Gray{Bool}(false)  Gray{Bool}(false)  …  Gray{Bool}(false)\n",
       " Gray{Bool}(false)  Gray{Bool}(false)     Gray{Bool}(false)\n",
       " Gray{Bool}(false)  Gray{Bool}(false)     Gray{Bool}(false)\n",
       " Gray{Bool}(false)  Gray{Bool}(false)     Gray{Bool}(false)\n",
       " Gray{Bool}(false)  Gray{Bool}(false)     Gray{Bool}(false)"
      ]
     },
     "metadata": {},
     "output_type": "display_data"
    },
    {
     "name": "stdout",
     "output_type": "stream",
     "text": [
      "(2.437283376852671, 0.4199708576481312)\n"
     ]
    }
   ],
   "source": [
    "𝞗=Dict(:batchsize=>32,:epochs=>80,:ginp=>256,:genh=>[512],:disch=>[512],:optim=>Adam,:lr=>0.0002);\n",
    "xtrn,ytrn,xtst,ytst = mnist()\n",
    "global dtrn = minibatch(xtrn, ytrn, 𝞗[:batchsize]; xtype=atype)\n",
    "global dtst = minibatch(xtst, ytst, 𝞗[:batchsize]; xtype=atype)\n",
    "𝗪  = (𝗪g,𝗪d)   = initweights(𝞗[:genh], 𝞗[:ginp], 784), initweights(𝞗[:disch], 784, 1)\n",
    "𝚶  = (𝚶pg,𝚶pd) = optimizers(𝗪g,𝞗[:optim];lr=𝞗[:lr]), optimizers(𝗪d,𝞗[:optim];lr=𝞗[:lr])\n",
    "generate_and_show(𝗪,100,𝞗)\n",
    "runmodel(𝗪, dtst, 𝞗;optim=𝚶, train=false) # initial losses\n",
    "runmodel(𝗪, dtrn, 𝞗;optim=𝚶,train=true, dtst=dtst) # training  "
   ]
  }
 ],
 "metadata": {
  "kernelspec": {
   "display_name": "Julia 0.6.0",
   "language": "julia",
   "name": "julia-0.6"
  },
  "language_info": {
   "file_extension": ".jl",
   "mimetype": "application/julia",
   "name": "julia",
   "version": "0.6.0"
  }
 },
 "nbformat": 4,
 "nbformat_minor": 2
}
