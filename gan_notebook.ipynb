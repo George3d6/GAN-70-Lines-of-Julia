{
 "cells": [
  {
   "cell_type": "code",
   "execution_count": 1,
   "metadata": {},
   "outputs": [
    {
     "data": {
      "text/plain": [
       "Array{Float32,N} where N"
      ]
     },
     "execution_count": 1,
     "metadata": {},
     "output_type": "execute_result"
    }
   ],
   "source": [
    "using Knet, Plots;\n",
    "gr()\n",
    "global atype = gpu()>=0 ? KnetArray{Float32} : Array{Float32}"
   ]
  },
  {
   "cell_type": "code",
   "execution_count": 2,
   "metadata": {},
   "outputs": [
    {
     "data": {
      "text/plain": [
       "get_training_data (generic function with 1 method)"
      ]
     },
     "execution_count": 2,
     "metadata": {},
     "output_type": "execute_result"
    }
   ],
   "source": [
    "function julia(x, y, width, height, c)\n",
    "    # Scale the values of x and y to generate the fractal within our frame\n",
    "    z = ((y/width)*2.7 - 1.3) + ((x/height)*4.5 - 2.5)im\n",
    "    for i = 1:254\n",
    "        z = z^2 + c\n",
    "        if abs(z) >= 4\n",
    "           return Float32(i)\n",
    "        end\n",
    "    end\n",
    "    return Float32(255)\n",
    "end\n",
    "\n",
    "\n",
    "julia_set(height, width, c) = [julia(x, y, width, height, c) for x = 1:height, y = 1:width]\n",
    "\n",
    "function get_training_data(n,size)\n",
    "    data = []\n",
    "    for i=1:n\n",
    "        #c = 1.2e^(rand()*256*π*im)\n",
    "        c = 1.2e^(rand()/10 + (n/14)*π*im)\n",
    "        push!(data, julia_set(size, size, c))\n",
    "    end\n",
    "    cat(4, map(x -> cat(3,x),data)...)\n",
    "end"
   ]
  },
  {
   "cell_type": "code",
   "execution_count": 4,
   "metadata": {},
   "outputs": [
    {
     "data": {
      "text/plain": [
       "main (generic function with 1 method)"
      ]
     },
     "execution_count": 4,
     "metadata": {},
     "output_type": "execute_result"
    }
   ],
   "source": [
    "function initmodel(hidden,input, output)\n",
    "    𝗪 = [];\n",
    "    x = input\n",
    "    for h in [hidden... output]\n",
    "        push!(𝗪, atype(xavier(h,x)), atype(zeros(h, 1))) #FC Layers weights and bias\n",
    "        x = h\n",
    "    end\n",
    "    𝗪\n",
    "end\n",
    "\n",
    "leakyrelu(x;α=Float32(0.2)) = max(0,x) + α*min(0,x) # LeakyRelu activation\n",
    "#A generic MLP forward prop function\n",
    "function forward_prop(W,X;dropout_p=0.0)\n",
    "    for i=1:2:length(W)\n",
    "        X = W[i]*dropout(mat(X),dropout_p) .+ W[i+1] # mat(X) flattens X to an \n",
    "        i<length(W)-1 && (X = leakyrelu.(X))\n",
    "    end\n",
    "    sigm.(X)\n",
    "end\n",
    "# Forward prop for the discriminator and generator respectivly\n",
    "D(w,x;dropout_p=0.0) = forward_prop(w,x;dropout_p=dropout_p)  #  Discriminator\n",
    "G(w,z;dropout_p=0.0) = forward_prop(w,z;dropout_p=dropout_p)  #  Generator\n",
    "\n",
    "\n",
    "global const 𝜀=Float32(1e-8) #  a small number prevent from getting NaN  in logs\n",
    "𝑱d(𝗪d,x,Gz) = -mean(log.(D(𝗪d,x)+𝜀)+log.(1-D(𝗪d,Gz)+𝜀))/2 # Discriminator Loss\n",
    "𝑱g(𝗪g, 𝗪d, z) = -mean(log.(D(𝗪d,G(𝗪g,z))+𝜀))             # Generator Loss\n",
    "\n",
    "∇d  = grad(𝑱d) # Discriminator gradient\n",
    "∇g  = grad(𝑱g) # Generator gradient\n",
    "\n",
    "\n",
    "\n",
    "𝒩(input, batch) = atype(randn(Float32, input, batch))      # SampleNoise\n",
    "function generate_and_save(𝗪,number,𝞗,gen;fldr=\"/mnt/data/other/fractals/8/\")\n",
    "    Gz = G(𝗪[1],𝒩(𝞗[:ginp],number)) #.> 0.5\n",
    "    Gz = permutedims(reshape(Gz,(𝞗[:size],𝞗[:size],number)),(2,1,3))\n",
    "    [png(heatmap(Gz[:,:,i], color=:ice), \"$(fldr)$(gen)-$(i).png\") for i=1:number]\n",
    "end\n",
    "\n",
    "#(if) train ? it updates model parameters : (else) it print losses\n",
    "function train_model(𝗪, data, 𝞗, optim)\n",
    "    gloss=dloss=counter=0.0;\n",
    "    B = 𝞗[:batchsize]\n",
    "    for generation=1:𝞗[:epochs]\n",
    "        for n=1:32:(length(data[1,1,1,:]) - 33)\n",
    "            x = data[:,:,:,n:n+31]\n",
    "            counter+=2B\n",
    "            Gz = G(𝗪[1],𝒩(𝞗[:ginp],B)) #Fake Images\n",
    "            update!(𝗪[2], ∇d(𝗪[2],x,Gz), optim[2])\n",
    "            z=𝒩(𝞗[:ginp],2B) #Sample z from Noise\n",
    "            update!(𝗪[1], ∇g(𝗪[1], 𝗪[2], z), optim[1])\n",
    "        end\n",
    "        # Compute the total losses, log them and save some images\n",
    "        log_model(𝗪, data, 𝞗, generation)\n",
    "    end\n",
    "end\n",
    "\n",
    "function log_model(𝗪, data, 𝞗, generation)\n",
    "    println(\"Running logging function for generation $(generation)\")\n",
    "    println(\"-----------------------------------------------------\")\n",
    "    gloss=dloss=counter=0.0;\n",
    "    B = 𝞗[:batchsize]\n",
    "    for n=1:32:(length(data[1,1,1,:]) - 33)\n",
    "        x = data[:,:,:,n:n+31]\n",
    "        dloss += 2B*𝑱d(𝗪[2],x,Gz)\n",
    "        gloss += 2B*𝑱g(𝗪[1],𝗪[2],z)\n",
    "    end\n",
    "    \n",
    "    println(\"Generator average loss: $(gloss/counter)\")\n",
    "    println(\"Disciminator average loss: $(dloss/counter)\")\n",
    "    generate_and_save(𝗪,6,𝞗,generation)\n",
    "    println(\"Saved images for generation: $(generation)\")\n",
    "    println(\"------------------------------------------------\\n\")\n",
    "end\n",
    "\n",
    "function main(size, data)\n",
    "    𝞗 = Dict(:batchsize=>32,:epochs=>80,:ginp=>256,:genh=>[256],:disch=>[1536],:optim=>Adam,:size=>size)\n",
    "    println(\"Using hidden layer for discriminator: $(𝞗[:disch]) and hidden layers for generator: $(𝞗[:genh])\")\n",
    "    𝗪 = (𝗪g,𝗪d)   = initmodel(𝞗[:genh], 𝞗[:ginp], size^2), initmodel(𝞗[:disch], size^2, 1)\n",
    "    𝚶 = (𝚶pg,𝚶pd)  = optimizers(𝗪g,𝞗[:optim];lr=0.003), optimizers(𝗪d,𝞗[:optim];lr=0.0002)\n",
    "    train_model(𝗪, data, 𝞗, 𝚶) \n",
    "end\n"
   ]
  },
  {
   "cell_type": "code",
   "execution_count": null,
   "metadata": {
    "scrolled": false
   },
   "outputs": [],
   "source": [
    "size = 80\n",
    "println(\"Generating X !\")\n",
    "X = get_training_data(8000,size)\n",
    "println(\"Done generating X !\")\n",
    "main(size, X)"
   ]
  },
  {
   "cell_type": "code",
   "execution_count": null,
   "metadata": {},
   "outputs": [],
   "source": []
  }
 ],
 "metadata": {
  "kernelspec": {
   "display_name": "Julia 0.6.2",
   "language": "julia",
   "name": "julia-0.6"
  },
  "language_info": {
   "file_extension": ".jl",
   "mimetype": "application/julia",
   "name": "julia",
   "version": "0.6.2"
  }
 },
 "nbformat": 4,
 "nbformat_minor": 2
}
